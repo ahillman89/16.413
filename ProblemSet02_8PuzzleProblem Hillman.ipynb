{
 "cells": [
  {
   "cell_type": "markdown",
   "metadata": {},
   "source": [
    "**This problem set is due Wednesday, September 22, 2021 at 11:59 pm. Please plan ahead and submit your work on time.**"
   ]
  },
  {
   "cell_type": "markdown",
   "metadata": {},
   "source": [
    "Import the modules needed for this exercise (make sure you execute the cell below by clicking on it and pressing Shift-Enter)"
   ]
  },
  {
   "cell_type": "code",
   "execution_count": 1,
   "metadata": {},
   "outputs": [],
   "source": [
    "%load_ext autoreload\n",
    "%autoreload 2\n",
    "from utils import test_ok, check_expanded_states, check_expanded_nodes\n",
    "from search_classes import SearchNode, Path"
   ]
  },
  {
   "cell_type": "markdown",
   "metadata": {},
   "source": [
    "# Problem Set 2: Solving the 8 Puzzle Problem with Search\n",
    "\n",
    "\n",
    "1. [State representation in the 8 Puzzle Problem](#state_representation)\n",
    "    1. [Expanding the puzzle state (25 points)](#state_expansion)\n",
    "2. [Simple Search](#simple_search)\n",
    "    1. [Completing the `PuzzleProblem` class (10 points)](#puzzle_problem_class)\n",
    "    2. [Implementing Breath First Search (45 points)](#bfs_implementation)\n",
    "    3. [Breadth First Search vs Depth First Search (20 points)](#bfs_vs_dfs)\n"
   ]
  },
  {
   "cell_type": "markdown",
   "metadata": {},
   "source": [
    "In this Problem Set you will implement Breath First Search and use it to solve the [8 Puzzle Problem](https://en.wikipedia.org/wiki/15_puzzle).\n",
    "\n",
    "The puzzle consists on a 3x3 grid with 8 numbered tiles and a missing tile. The objective consists on sliding the tiles around until all the numbered tiles are ordered and the missing tile stays at the lower right cell of the grid.\n",
    "\n",
    "<img src=\"puzzle8.png\"/>\n",
    "\n",
    "\n"
   ]
  },
  {
   "cell_type": "markdown",
   "metadata": {},
   "source": [
    "## <a name=\"state_representation\"></a>State representation in the 8 Puzzle Problem\n",
    "\n",
    "To make things simple, we are giving you a possible state representation for the 8-puzzle problem.\n",
    "\n",
    "We'll represent a given state of the puzzle by a tuple of three internal tuples. Each internal tuple represents a row of the puzzle. The missing tile is represented by $0$.\n",
    "\n",
    "For example, the puzzle state below:\n",
    "\n",
    "<img src=\"example_state.png\"/>\n",
    "\n",
    "is represented by `((1, 2, 3), (8, 0, 4), (7, 6, 5))`.\n",
    "\n",
    "Below, we are giving you some code to print a puzzle state:"
   ]
  },
  {
   "cell_type": "code",
   "execution_count": 2,
   "metadata": {
    "deletable": false,
    "editable": false,
    "nbgrader": {
     "cell_type": "code",
     "checksum": "074187e36218c7e0ed187f3bfc8964a3",
     "grade": false,
     "grade_id": "print_state_code",
     "locked": true,
     "schema_version": 3,
     "solution": false
    }
   },
   "outputs": [
    {
     "name": "stdout",
     "output_type": "stream",
     "text": [
      "((1, 2, 3), (8, 0, 4), (7, 6, 5)) state represents puzzle state: \n",
      "+-----+\n",
      "|1 2 3|\n",
      "|8   4|\n",
      "|7 6 5|\n",
      "+-----+\n"
     ]
    }
   ],
   "source": [
    "# (this cell will be overwritten)\n",
    "def print_state(state):\n",
    "    print(\"+\"+ \"-\"*5+\"+\")\n",
    "    for l in state:\n",
    "        print(\"|\"+ \" \".join([str(el) if el!=0 else \" \" for el in l]) +\"|\")\n",
    "    print(\"+\"+ \"-\"*5+\"+\")\n",
    "\n",
    "example_state = ((1, 2, 3), (8, 0, 4), (7, 6, 5))\n",
    "\n",
    "print(\"%s state represents puzzle state: \" % (example_state,))\n",
    "print_state(example_state)"
   ]
  },
  {
   "cell_type": "markdown",
   "metadata": {},
   "source": [
    "### <a name=\"state_expansion\"></a>Expanding a puzzle state (25 points)\n",
    "\n",
    "In order to find a solution to the state, we need to define the states we can reach from a given state.\n",
    "\n",
    "This corresponds to the possible moves of the missing tile (at most up, down, left and right).\n",
    "\n",
    "Implement the function `expand_state(state)` that returns a `list` of the states that can be reached from the given `state`.\n",
    "\n",
    "For example, for state `((0, 1, 3), (4, 2, 5), (7, 8, 6))`, the function `expand_state` should return the following list (two moves are feasible):\n",
    "\n",
    "```\n",
    "[((4, 1, 3), (0, 2, 5), (7, 8, 6)), ((1, 0, 3), (4, 2, 5), (7, 8, 6))]\n",
    "```\n",
    "\n",
    "The neighbour states of state:\n",
    "\n",
    "```\n",
    "+-----+\n",
    "|  1 3|\n",
    "|4 2 5|\n",
    "|7 8 6|\n",
    "+-----+\n",
    "```\n",
    "\n",
    "are:\n",
    "\n",
    "```\n",
    "+-----+\n",
    "|4 1 3|\n",
    "|  2 5|\n",
    "|7 8 6|\n",
    "+-----+\n",
    "***\n",
    "+-----+\n",
    "|1   3|\n",
    "|4 2 5|\n",
    "|7 8 6|\n",
    "+-----+\n",
    "```\n",
    "\n",
    "<div class=\"alert alert-info\">\n",
    "Implement the function `expand_state(state)` below.\n",
    "</div>\n"
   ]
  },
  {
   "cell_type": "code",
   "execution_count": 3,
   "metadata": {
    "deletable": false,
    "nbgrader": {
     "cell_type": "code",
     "checksum": "20eb1e40bfaca243936c13d8e732c9ec",
     "grade": false,
     "grade_id": "expand_state_code",
     "locked": false,
     "schema_version": 3,
     "solution": true
    }
   },
   "outputs": [],
   "source": [
    "def expand_state(state):\n",
    "    # YOUR CODE HERE\n",
    "    nullspace=[]\n",
    "    leftmove=[]\n",
    "    upmove=[]\n",
    "    downmove=[]\n",
    "    rightmove=[]\n",
    "    final=[]\n",
    "#if the 0 is in the top row it can go down, left or right; if its on the bottom it can go up left or right\n",
    "    for i in range(0,3):\n",
    "        for j in range(0,3):\n",
    "            if state[i][j]==0:\n",
    "                nullspace.append(i)\n",
    "                nullspace.append(j)\n",
    "\n",
    "    if nullspace[0]==1:\n",
    "        if nullspace[1]==1:\n",
    "            leftmove=(state[0],(state[1][1], state[1][0], state[1][2]),state[2])\n",
    "            rightmove=(state[0],(state[1][0], state[1][2], state[1][1]),state[2])\n",
    "            upmove=((state[0][0], state[1][1], state[0][2]),(state[1][0],state[0][1],state[1][2]),state[2])\n",
    "            downmove=(state[0],(state[1][0],state[2][1],state[1][2]),(state[2][0], state[1][1], state[2][2]))\n",
    "            #print_state(downmove)\n",
    "            #print_state(leftmove)\n",
    "           # print_state(rightmove)\n",
    "            #print_state(upmove)\n",
    "            final=[downmove, upmove,rightmove,leftmove]\n",
    "        if nullspace[1]==0:\n",
    "            rightmove=(state[0],(state[1][1], state[1][0], state[1][2]),state[2])\n",
    "            upmove=((state[1][0], state[0][1], state[0][2]),(state[0][0],state[1][1],state[1][2]),state[2])\n",
    "            downmove=(state[0],(state[2][0],state[1][1],state[1][2]),(state[1][0], state[2][1], state[2][2]))\n",
    "            #print_state(rightmove)\n",
    "            #print_state(upmove)\n",
    "            #print_state(downmove)\n",
    "            final=[rightmove,upmove,downmove]\n",
    "        if nullspace[1]==2:\n",
    "            upmove=((state[0][0], state[0][1], state[1][2]),(state[1][0],state[1][1],state[0][2]),state[2])\n",
    "            downmove=(state[0],(state[1][0],state[1][1],state[2][2]),(state[2][0], state[2][1], state[1][2]))\n",
    "            leftmove=(state[0],(state[1][0], state[1][2], state[1][1]),state[2])\n",
    "            #print_state(downmove)\n",
    "            #print_state(leftmove)\n",
    "            #print_state(upmove)\n",
    "            final=[upmove,downmove]\n",
    "    if nullspace[0]==0:\n",
    "        if nullspace[1]==1:\n",
    "            downmove=((state[0][0],state[1][1],state[0][2]),(state[1][0],state[0][1],state[1][2]),state[2])\n",
    "            leftmove=((state[0][1],state[0][0],state[0][2]),state[1],state[2])\n",
    "            rightmove=((state[0][0],state[0][2],state[0][1]),state[1],state[2])\n",
    "            #print_state(downmove)\n",
    "            #print_state(leftmove)\n",
    "            #print_state(rightmove)\n",
    "            final=[downmove,leftmove,rightmove]\n",
    "        if nullspace[1]==0:\n",
    "            rightmove=((state[0][1],state[0][0],state[0][2]),state[1],state[2])\n",
    "            #print_state(rightmove)\n",
    "            downmove=((state[1][0],state[0][1],state[0][2]),(state[0][0],state[1][1],state[1][2]),state[2])\n",
    "            #print_state(downmove)\n",
    "            final=[downmove,rightmove]\n",
    "        if nullspace[1]==2:\n",
    "            leftmove=((state[0][0],state[0][2],state[0][1]),state[1],state[2])\n",
    "            #print_state(leftmove)\n",
    "            downmove=((state[0][0],state[0][1],state[1][2]),(state[1][0],state[1][1],state[0][2]),state[2])\n",
    "           #print_state(downmove)\n",
    "            final=(downmove,leftmove)\n",
    "    if nullspace[0]==2:\n",
    "        if nullspace[1]==1:\n",
    "            leftmove=(state[0],state[1],(state[2][1],state[2][0],state[2][2]))\n",
    "            rightmove=(state[0],state[1],(state[2][0],state[2][2],state[2][1]))\n",
    "            upmove=(state[0],(state[1][0],state[2][1],state[1][2]),(state[2][0],state[1][1],state[2][2]))\n",
    "           # print_state(leftmove)\n",
    "            #print_state(rightmove)\n",
    "            #print_state(upmove)\n",
    "            final=[leftmove,rightmove,upmove]\n",
    "        if nullspace[1]==0:\n",
    "            rightmove=(state[0],state[1],(state[2][1],state[2][0],state[2][2]))\n",
    "            #print_state(rightmove)\n",
    "            upmove=(state[0],(state[2][0],state[1][1],state[1][2]),(state[1][0],state[2][1],state[2][2]))\n",
    "            #print_state(upmove)\n",
    "            final=[upmove,rightmove]\n",
    "        \n",
    "        if nullspace[1]==2:\n",
    "            leftmove=(state[0],state[1],(state[2][0],state[2][2],state[2][1]))\n",
    "            #print_state(leftmove)\n",
    "            upmove=(state[0],(state[1][0],state[1][1],state[2][2]),(state[2][0],state[2][1],state[1][2]))\n",
    "            #print_state(upmove)\n",
    "            final=[upmove,leftmove]\n",
    "    return final\n",
    "    raise NotImplementedError()"
   ]
  },
  {
   "cell_type": "code",
   "execution_count": 4,
   "metadata": {
    "deletable": false,
    "editable": false,
    "nbgrader": {
     "cell_type": "code",
     "checksum": "c8b8e807145c195c620e9099bf020308",
     "grade": true,
     "grade_id": "expand_state_test",
     "locked": true,
     "points": 25,
     "schema_version": 3,
     "solution": false
    }
   },
   "outputs": [
    {
     "data": {
      "text/html": [
       "<div class=\"alert alert-success\">\n",
       "        <strong>Test passed!!</strong>\n",
       "        </div>"
      ]
     },
     "metadata": {},
     "output_type": "display_data"
    }
   ],
   "source": [
    "\"\"\"Check the expand state function\"\"\"\n",
    "from nose.tools import assert_equal, ok_\n",
    "\n",
    "check_expanded_states(expand_state(((0, 1, 3), (4, 2, 5), (7, 8, 6))),\n",
    "                     [((4, 1, 3), (0, 2, 5), (7, 8, 6)), ((1, 0, 3), (4, 2, 5), (7, 8, 6))])\n",
    "\n",
    "check_expanded_states(expand_state(((1, 2, 3), (8, 0, 4), (7, 6, 5))),\n",
    "                     [((1, 2, 3), (8, 6, 4), (7, 0, 5)),\n",
    "                     ((1, 0, 3), (8, 2, 4), (7, 6, 5)),\n",
    "                     ((1, 2, 3), (8, 4, 0), (7, 6, 5)),\n",
    "                     ((1, 2, 3), (0, 8, 4), (7, 6, 5))])\n",
    "test_ok()"
   ]
  },
  {
   "cell_type": "markdown",
   "metadata": {},
   "source": [
    "## <a name=\"simple_search\"></a>Simple Search"
   ]
  },
  {
   "cell_type": "markdown",
   "metadata": {},
   "source": [
    "Now you will implement Simple Search, as seen in class, to solve the 8 Puzzle Problem.\n",
    "\n",
    "We are giving you the class `SearchNode` defined in `search_classes.py`. This class represents a search node in the search tree.\n",
    "\n",
    "You can create a `SearchNode` by giving it the state it represents and its `SearchNode` parent (or None if it's the root element in the tree). Below is an example of the Serach Node class being used:"
   ]
  },
  {
   "cell_type": "code",
   "execution_count": 5,
   "metadata": {
    "scrolled": true
   },
   "outputs": [
    {
     "name": "stdout",
     "output_type": "stream",
     "text": [
      "Root node: <SearchNode: state: ((0, 1, 3), (4, 2, 5), (7, 8, 6)), parent: None>\n",
      "Children node: <SearchNode: state: ((4, 1, 3), (0, 2, 5), (7, 8, 6)), parent: <SearchNode: state: ((0, 1, 3), (4, 2, 5), (7, 8, 6)), parent: None>>\n"
     ]
    }
   ],
   "source": [
    "# Execute this example code\n",
    "root_node = SearchNode(((0, 1, 3), (4, 2, 5), (7, 8, 6)), parent_node=None)\n",
    "children_node = SearchNode(((4, 1, 3), (0, 2, 5), (7, 8, 6)),\n",
    "                            parent_node=root_node)\n",
    "print(\"Root node: %s\" % root_node)\n",
    "print(\"Children node: %s\" % children_node)"
   ]
  },
  {
   "cell_type": "markdown",
   "metadata": {},
   "source": [
    "We also give you the `Path` class, that takes a `SearchNode` and computes the state path from the initial state in the root of the tree to the state of the given `SearchNode`:"
   ]
  },
  {
   "cell_type": "code",
   "execution_count": 6,
   "metadata": {},
   "outputs": [
    {
     "name": "stdout",
     "output_type": "stream",
     "text": [
      "[((0, 1, 3), (4, 2, 5), (7, 8, 6)), ((4, 1, 3), (0, 2, 5), (7, 8, 6))]\n",
      "Path of length 2: [((0, 1, 3), (4, 2, 5), (7, 8, 6)), ((4, 1, 3), (0, 2, 5), (7, 8, 6))]\n",
      "<SearchNode: state: ((4, 1, 3), (0, 2, 5), (7, 8, 6)), parent: <SearchNode: state: ((0, 1, 3), (4, 2, 5), (7, 8, 6)), parent: None>>\n",
      "Path of 2 states is: [((0, 1, 3), (4, 2, 5), (7, 8, 6)), ((4, 1, 3), (0, 2, 5), (7, 8, 6))]\n"
     ]
    }
   ],
   "source": [
    "# Execute this example code\n",
    "example_path = Path(children_node)\n",
    "print(example_path.path)\n",
    "print(example_path)\n",
    "print(children_node)\n",
    "print(\"Path of %d states is: %s\" % (len(example_path.path), example_path.path))"
   ]
  },
  {
   "cell_type": "markdown",
   "metadata": {},
   "source": [
    "<div class=\"alert alert-warning\">\n",
    "You will want to look at the `SearchNode` and `Path` definitions in the included **`search_classes.py`** file, as you will need to know what useful properties you can use for the next questions.\n",
    "</div>"
   ]
  },
  {
   "cell_type": "code",
   "execution_count": 7,
   "metadata": {
    "deletable": false,
    "nbgrader": {
     "cell_type": "code",
     "checksum": "e6cf5ab58770cba215e257a8e5d11628",
     "grade": false,
     "grade_id": "puzzleproblem_code",
     "locked": false,
     "schema_version": 3,
     "solution": true
    }
   },
   "outputs": [],
   "source": [
    "class PuzzleProblem(object):\n",
    "    \n",
    "    \"\"\"Class that represents the puzzle search problem.\"\"\"\n",
    "    def __init__(self, start, goal):\n",
    "        self.start = start\n",
    "        self.goal = goal\n",
    "    def test_goal(self, state):\n",
    "        return self.goal == state\n",
    "    def expand_node(self, search_node):\n",
    "        \"\"\"Return a list of SearchNodes, having the correct state and parent node.\"\"\"\n",
    "        # YOUR CODE HERE\n",
    "        root_node = SearchNode(search_node.state, parent_node=None)\n",
    "        expanded=[]\n",
    "        expanded=expand_state(search_node.state)\n",
    "        expanded_sn=[]\n",
    "        for i in range(0,len(expanded)):\n",
    "            expanded_sn.append(SearchNode(expanded[i],parent_node=search_node))\n",
    "        \n",
    "        return expanded_sn\n",
    "        raise NotImplementedError()\n",
    "        return expanded_sn"
   ]
  },
  {
   "cell_type": "code",
   "execution_count": 8,
   "metadata": {
    "deletable": false,
    "editable": false,
    "nbgrader": {
     "cell_type": "code",
     "checksum": "b1f97f378255de804d9b7d9e884751dc",
     "grade": true,
     "grade_id": "puzzleproblem_test",
     "locked": true,
     "points": 10,
     "schema_version": 3,
     "solution": false
    }
   },
   "outputs": [
    {
     "data": {
      "text/html": [
       "<div class=\"alert alert-success\">\n",
       "        <strong>Test passed!!</strong>\n",
       "        </div>"
      ]
     },
     "metadata": {},
     "output_type": "display_data"
    }
   ],
   "source": [
    "\"\"\"Check the implementation of PuzzleProblem\"\"\"\n",
    "state_test = ((1, 2, 3), (8, 0, 4), (7, 6, 5))\n",
    "problem_test = PuzzleProblem(state_test, None)\n",
    "node_test = SearchNode(state_test, None)\n",
    "check_expanded_nodes(problem_test.expand_node(node_test),\n",
    "                     node_test,\n",
    "                     [((1, 2, 3), (8, 6, 4), (7, 0, 5)),\n",
    "                     ((1, 0, 3), (8, 2, 4), (7, 6, 5)),\n",
    "                     ((1, 2, 3), (8, 4, 0), (7, 6, 5)),\n",
    "                     ((1, 2, 3), (0, 8, 4), (7, 6, 5))])\n",
    "test_ok()"
   ]
  },
  {
   "cell_type": "markdown",
   "metadata": {},
   "source": [
    "### <a name=\"bfs_implementation\"></a>Implement Breadth First Search (45 points)\n",
    "\n",
    "Finally, you'll implement *Breath First Search*.\n",
    "\n",
    "Implement the function `breadth_first_search(search_problem)` that takes an instance of the `PuzzleProblem` class that we defined above and returns a tuple of three elements, in the following order:\n",
    "\n",
    "1. If BFS finds a solution, an instance of the `Path` class containing that solution. If it doesn't, it should return `None` as the first element of the tuple.\n",
    "2. The number of visited nodes\n",
    "3. The maximum size of the queue\n",
    "\n",
    "You should use a **visited list**, as otherwise the number of explored states in this problem will be large.\n",
    "\n",
    "Also, think that instead of implementing Breadth First Search directly, you could very easily implement a generic *simple_search* function that takes as one of the parameters a function to insert an element in the queue and use this function to implement breath first search, and also depth first search very easily. However, you are not required to do this.\n",
    "\n",
    "<div class=\"alert alert-info\">\n",
    "Implement `breadth_first_search(search_problem)` below.\n",
    "</div>\n",
    "\n"
   ]
  },
  {
   "cell_type": "code",
   "execution_count": 9,
   "metadata": {
    "deletable": false,
    "nbgrader": {
     "cell_type": "code",
     "checksum": "eff266981871b5f411ddd865f43379bc",
     "grade": true,
     "grade_id": "bfs_code",
     "locked": false,
     "points": 45,
     "schema_version": 3,
     "solution": true
    },
    "scrolled": true
   },
   "outputs": [],
   "source": [
    "def breadth_first_search(search_problem):\n",
    "    \"\"\"This function should take a PuzzleProblem instance\n",
    "    and return a 3 element tuple as described above.\"\"\"\n",
    "# NEED TO UPDATE TO MAKE SURE WE ARE NOT EXECUTING THE SEARCH IF A STATE IS IN THE VISITED LIST\n",
    "    visited=[]\n",
    "    w=[]\n",
    "    current_state=[]\n",
    "    current_sn=[]\n",
    "    start_sn=[]\n",
    "    queue=[]\n",
    "    sol=None\n",
    "    goal=goal_state\n",
    "    next_sn=[]\n",
    "    maxq=1\n",
    "    maxsteps=1000\n",
    "    next_statetoexpand=[]\n",
    "\n",
    "    start_sn=SearchNode(start_state, None)\n",
    "\n",
    "    queue.append(start_sn)\n",
    "    first_sn=queue.pop(0)\n",
    "    visited.append(start_sn.state)\n",
    "    visitlength=(len(visited))\n",
    "    \n",
    "    if first_sn.state==goal:\n",
    "        sol=Path(current_sn)\n",
    "        print(\"you've reached a solution\")\n",
    "        return (sol,1, 1)\n",
    "    next_sn=search_problem.expand_node(SearchNode(start_state,None))\n",
    "    for q in range(0, len(next_sn)):\n",
    "        queue.append(next_sn[q])\n",
    "    if len(queue)>maxq:\n",
    "        maxq=len(queue)\n",
    "    \n",
    "    for w in range(1,maxsteps):\n",
    "        if len(queue)>maxq:\n",
    "            maxq=len(queue)\n",
    "        current_sn=queue.pop(0)\n",
    "        if current_sn.state in visited:\n",
    "            print (\"You've been here before; your search has returned you to a visited state\")\n",
    "            continue\n",
    "        visited.append(current_sn.state)\n",
    "        visitlength=(len(visited))\n",
    "        if current_sn.state==goal:\n",
    "            sol=Path(current_sn)\n",
    "            print(\"You've reached a solution\")\n",
    "            return (sol,visitlength, maxq)\n",
    "        next_sn=search_problem.expand_node(current_sn)\n",
    "        for q in range(0, len(next_sn)):\n",
    "            if next_sn[q].state in visited:\n",
    "                continue\n",
    "            queue.append(next_sn[q])\n",
    "        \n",
    "        \n",
    "    return (sol,visitlength, maxq)\n",
    "        \n",
    "    raise NotImplementedError()\n",
    "\n"
   ]
  },
  {
   "cell_type": "code",
   "execution_count": 10,
   "metadata": {},
   "outputs": [
    {
     "name": "stdout",
     "output_type": "stream",
     "text": [
      "You've reached a solution\n",
      "the solution path is  Path of length 5: [((0, 1, 3), (4, 2, 5), (7, 8, 6)), ((1, 0, 3), (4, 2, 5), (7, 8, 6)), ((1, 2, 3), (4, 0, 5), (7, 8, 6)), ((1, 2, 3), (4, 5, 0), (7, 8, 6)), ((1, 2, 3), (4, 5, 6), (7, 8, 0))]\n",
      "the number of nodes visited is:  27\n",
      "the max size of the queue is:  17\n"
     ]
    }
   ],
   "source": [
    "start_state = ((0, 1, 3), (4, 2, 5), (7, 8, 6))\n",
    "goal_state = ((1,2,3),(4,5,6),(7,8,0))\n",
    "problem = PuzzleProblem(start_state, goal_state)\n",
    "\n",
    "sol, num_visited, max_q = breadth_first_search(problem)\n",
    "print(\"the solution path is \", sol)\n",
    "print(\"the number of nodes visited is: \", num_visited)\n",
    "print(\"the max size of the queue is: \", max_q)"
   ]
  },
  {
   "cell_type": "markdown",
   "metadata": {},
   "source": [
    "### Solve the Puzzle Problem using BFS\n",
    "\n",
    "Finally, let's use your Breath First Search implementation to solve the 8 Puzzle Problem.\n",
    "Execute the cell below. If your BFS implementation is correct, you should see the solution printed below.\n",
    "Don't modify the cell below, as it will be overwritten by our software. If you want to experiment with different states, create new cells below.\n"
   ]
  },
  {
   "cell_type": "code",
   "execution_count": 11,
   "metadata": {
    "deletable": false,
    "editable": false,
    "nbgrader": {
     "cell_type": "code",
     "checksum": "220e0e1e49322f93ea3526d3d6d45859",
     "grade": false,
     "grade_id": "puzzle8_bfs_sol_code",
     "locked": true,
     "schema_version": 3,
     "solution": false
    }
   },
   "outputs": [
    {
     "name": "stdout",
     "output_type": "stream",
     "text": [
      "You've been here before; your search has returned you to a visited state\n",
      "You've been here before; your search has returned you to a visited state\n",
      "You've been here before; your search has returned you to a visited state\n",
      "You've been here before; your search has returned you to a visited state\n",
      "You've been here before; your search has returned you to a visited state\n",
      "You've been here before; your search has returned you to a visited state\n",
      "You've been here before; your search has returned you to a visited state\n",
      "You've been here before; your search has returned you to a visited state\n",
      "You've been here before; your search has returned you to a visited state\n",
      "You've been here before; your search has returned you to a visited state\n",
      "You've been here before; your search has returned you to a visited state\n",
      "You've been here before; your search has returned you to a visited state\n",
      "You've been here before; your search has returned you to a visited state\n",
      "You've been here before; your search has returned you to a visited state\n",
      "You've been here before; your search has returned you to a visited state\n",
      "You've been here before; your search has returned you to a visited state\n",
      "You've been here before; your search has returned you to a visited state\n",
      "You've been here before; your search has returned you to a visited state\n",
      "You've been here before; your search has returned you to a visited state\n",
      "No solution after exploring 981 states with max q of 570\n"
     ]
    }
   ],
   "source": [
    "# Solve the 8 Puzzle Problem from state:\n",
    "# +-----+\n",
    "# |  1 3|\n",
    "# |4 2 5|\n",
    "# |7 8 6|\n",
    "# +-----+\n",
    "# Don't modify this cell (contents will be overwritten by autograder)\n",
    "# If you want to experiment with other states, try adding cells below.\n",
    "# You can try with state: ((1, 8, 2), (0, 4, 3), (7, 6, 5)) for example.\n",
    "# Remember that not all states have a solution. Try ((8, 1, 2), (0, 4, 3), (7, 6, 5)), for example.\n",
    "# Be ready to wait, though!\n",
    "start_state = ((0, 1, 3), (4, 2, 5), (7, 8, 6))\n",
    "start_state = ((8, 1, 2), (0, 4, 3), (7, 6, 5))\n",
    "goal_state = ((1,2,3),(4,5,6),(7,8,0))\n",
    "problem = PuzzleProblem(start_state, goal_state)\n",
    "\n",
    "sol, num_visited, max_q = breadth_first_search(problem)\n",
    "if sol:\n",
    "    print(\"Solution found!\\n%d states in the solution (%d moves)\\n%d states explored.\\n%d maximum queue\" \\\n",
    "          %(len(sol.path), len(sol.path)-1, num_visited,max_q))\n",
    "    print(\"Solution: \")\n",
    "    for s in sol.path:\n",
    "        print_state(s)\n",
    "        print(\"\\n**\\n\")\n",
    "else:\n",
    "    print(\"No solution after exploring %d states with max q of %d\" %(num_visited, max_q))"
   ]
  },
  {
   "cell_type": "markdown",
   "metadata": {},
   "source": [
    "### <a name=\"bfs_vs_dfs\"></a> Breadth First Search vs Depth First Search (20 points)\n",
    "\n",
    "Have you tried using DFS to solve this problem?\n",
    "\n",
    "Would DFS be a better choice for this problem? What benefits does BFS have over DFS in this problem? Please explain in the cell below (double click on the cell below, remove the text and type your answer). This is a qualitative question, you are not required to give numerical comparisons."
   ]
  },
  {
   "cell_type": "markdown",
   "metadata": {
    "deletable": false,
    "nbgrader": {
     "cell_type": "markdown",
     "checksum": "35328cb60ffaf0af938b320d052d35cd",
     "grade": true,
     "grade_id": "bfs_vs_dfs_sol",
     "locked": false,
     "points": 20,
     "schema_version": 3,
     "solution": true
    }
   },
   "source": [
    "I did not try and use DFS for this problem yet. mostly because of this conclusion: I think that BFS is a better choice for this problem. For this problem, BFS is guaranteed to find a path if one exists and that path will also be the shortest path. On the other hand, DFS typically only finds a solution for finite graphs; DFS will also likely take more time to solve this problem. Since the b (bushiness factor) for this problem is small, even though BFS will require more memory to solve the problem, BFS will do it more quickly that DFS! "
   ]
  }
 ],
 "metadata": {
  "anaconda-cloud": {},
  "kernelspec": {
   "display_name": "Python 3 (ipykernel)",
   "language": "python",
   "name": "python3"
  },
  "language_info": {
   "codemirror_mode": {
    "name": "ipython",
    "version": 3
   },
   "file_extension": ".py",
   "mimetype": "text/x-python",
   "name": "python",
   "nbconvert_exporter": "python",
   "pygments_lexer": "ipython3",
   "version": "3.9.6"
  }
 },
 "nbformat": 4,
 "nbformat_minor": 1
}
