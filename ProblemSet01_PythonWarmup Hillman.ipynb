{
 "cells": [
  {
   "cell_type": "markdown",
   "metadata": {},
   "source": [
    "### Make sure you execute each cell as you progress through the notebook by pressing Shift+Enter while the cell is selected\n",
    "\n",
    "### Start by importing the modules needed for this exercise in the cell below"
   ]
  },
  {
   "cell_type": "code",
   "execution_count": 19,
   "metadata": {},
   "outputs": [
    {
     "name": "stdout",
     "output_type": "stream",
     "text": [
      "The autoreload extension is already loaded. To reload it, use:\n",
      "  %reload_ext autoreload\n"
     ]
    }
   ],
   "source": [
    "%load_ext autoreload\n",
    "%autoreload 2\n",
    "%matplotlib inline\n",
    "from __future__ import division\n",
    "from matplotlib import pyplot as plt\n",
    "import matplotlib.patches as mpatches\n",
    "import numpy as np\n",
    "import itertools\n",
    "import math\n",
    "import operator\n",
    "\n",
    "from utils import *"
   ]
  },
  {
   "cell_type": "markdown",
   "metadata": {
    "tags": [
     "worksheet-0"
    ]
   },
   "source": [
    "# 16.410/413 Problem Set 1: Python Warmup\n",
    "\n",
    "In this first problem set we will learn to use the Jupyer notebook (formerly IPython) that we'll use for some of the psets and we'll remember some useful python concepts.\n",
    "\n",
    "\n",
    "2. [Problem 1: Implementing a simple function (10 points)](#simple_function)\n",
    "3. [Problem 2: A brute force approach to the Knapsack Problem (45 points)](#knapsack_problem)\n",
    "    1. [Compute the total number of combinations (5 points)](#number_total_combinations)\n",
    "    2. [Find all combinations (15 points)](#all_combinations)\n",
    "    3. [Find all the valid combinations (5 points)](#valid_combinations)\n",
    "    4. [Find the best solutions to the knapsack problem (15 points)](#best_solutions)\n",
    "    5. [Plot the value of the solutions (5 points)](#knapsack_plot)\n",
    "4. [Problem 3: Approximate pi using Monte Carlo sampling (45 points)](#pi_problem)\n",
    "    1. [Implement the error function (5 points)](#pi_error)\n",
    "    2. [Implement the `approximate_pi` function (30 points)](#pi_approximate)\n",
    "    3. [Print a table of the approximated pi values and the error depending on the number of samples (10 points)](#pi_table)\n",
    "\n",
    "Total: **100 points**"
   ]
  },
  {
   "cell_type": "markdown",
   "metadata": {},
   "source": [
    "You'll do three problems in this Problem Set that will help you get used to the Jupyter notebook and Python.\n",
    "\n",
    "Remember that you can find more information about the Jupyter/IPython notebook in the [course wiki](https://courses.csail.mit.edu/16.410/wiki). Fill in your answers in this notebook below. The notebook will be saved periodically and every time you press Ctrl-s (Command-s in a mac).\n",
    "\n",
    "The course wiki contains instructions on how to submit the problem sets."
   ]
  },
  {
   "cell_type": "markdown",
   "metadata": {
    "deletable": false,
    "editable": false,
    "nbgrader": {
     "cell_type": "markdown",
     "checksum": "f563c286c748877e9220d1e6ce3df1d3",
     "grade": false,
     "grade_id": "simple_fun",
     "locked": true,
     "schema_version": 3,
     "solution": false
    }
   },
   "source": [
    "## <a name=\"simple_function\"></a>Problem 1: Implement a simple function\n",
    "\n",
    "Implement a function that computes the sum of all integer numbers up to n, according to the formula:\n",
    "\n",
    "\\begin{equation}\n",
    "\\sum_{i=0}^n i = \\frac{n\\cdot(n+1)}{2}\n",
    "\\end{equation}\n",
    "\n",
    "\n",
    "We'll often use blue boxes like the one below to indicate that you need to write code in the cell below.\n",
    "\n",
    "<div class=\"alert alert-info\">\n",
    "Implement the function `sum_to_n(n)` below.\n",
    "</div>"
   ]
  },
  {
   "cell_type": "code",
   "execution_count": 20,
   "metadata": {
    "deletable": false,
    "nbgrader": {
     "cell_type": "code",
     "checksum": "8886d94487380ef85ab211d08b308005",
     "grade": false,
     "grade_id": "simple_fun_code",
     "locked": false,
     "schema_version": 3,
     "solution": true
    }
   },
   "outputs": [],
   "source": [
    "def sum_to_n(n):\n",
    "    # MY CODE HERE\n",
    "    if(n > 0):\n",
    "        result = n + sum_to_n(n - 1)\n",
    "        \n",
    "    else:\n",
    "        result = 0\n",
    "    return result\n",
    "    raise NotImplementedError()"
   ]
  },
  {
   "cell_type": "code",
   "execution_count": 21,
   "metadata": {
    "nbgrader": {
     "grade": false,
     "locked": false,
     "schema_version": 3,
     "solution": false
    }
   },
   "outputs": [
    {
     "data": {
      "text/plain": [
       "153"
      ]
     },
     "execution_count": 21,
     "metadata": {},
     "output_type": "execute_result"
    }
   ],
   "source": [
    "sum_to_n(10)\n",
    "sum_to_n(5)\n",
    "sum_to_n(17)"
   ]
  },
  {
   "cell_type": "markdown",
   "metadata": {},
   "source": [
    "Often (but not always) we'll have code cells with test code to check that your code is correct.\n",
    "\n",
    "Those test cells will look like the following one. If you execute the cell below before completing the code for the `sum_to_n` function, you'll get an error message. However, if your code is correct, you should get a \"Test passed\" confirmation message in a green box.\n",
    "\n",
    "Try running the test code below."
   ]
  },
  {
   "cell_type": "code",
   "execution_count": 22,
   "metadata": {
    "deletable": false,
    "editable": false,
    "nbgrader": {
     "cell_type": "code",
     "checksum": "ebf29b742e34df359958e35c37e97a09",
     "grade": true,
     "grade_id": "simple_fun_test",
     "locked": true,
     "points": 10,
     "schema_version": 3,
     "solution": false
    }
   },
   "outputs": [
    {
     "data": {
      "text/html": [
       "<div class=\"alert alert-success\">\n",
       "        <strong>Test passed!!</strong>\n",
       "        </div>"
      ]
     },
     "metadata": {},
     "output_type": "display_data"
    }
   ],
   "source": [
    "\"\"\"Test the sum_to_n function\"\"\"\n",
    "from nose.tools import assert_equal\n",
    "assert_equal(sum_to_n(4), 10)\n",
    "assert_equal(sum_to_n(10), 55)\n",
    "test_ok()"
   ]
  },
  {
   "cell_type": "markdown",
   "metadata": {},
   "source": [
    "## <a name=\"knapsack_problem\"></a>Problem 2: A brute force approach to the Knapsack problem"
   ]
  },
  {
   "cell_type": "markdown",
   "metadata": {},
   "source": [
    "The [Knapsack problem](https://en.wikipedia.org/wiki/Knapsack_problem) is a classic combinatorial optimization problem. In this simple exercise we'll ask you to solve the problem using a naïve bruteforce approach (that will only work for small instances). Later in the course, we'll see how this problem can be modeled as an mixed integer linear problem, for example.\n",
    "\n",
    "The idea is that a thief breaks into a house with a knapsack of a given size and tries to steal as much as he can. He can't put everything into the knapsack, as it has a limited size. The knapsack problem consists on chosing the items to put in the knapsack so that the combined value of all the collected items is maximized, and the size constraint of the knapsack is satisfied.\n",
    "\n",
    "Imagine the list of items with their sizes and values is the following (9 items):\n",
    "\n",
    "<table class=\"table table-condensed table-hover table-striped\">\n",
    "      <thead>\n",
    "        <tr>\n",
    "          <th>Item</th>\n",
    "          <th>Size</th>\n",
    "          <th>Value</th>\n",
    "        </tr>\n",
    "      </thead>\n",
    "      <tbody>\n",
    "        <tr>\n",
    "          <th scope=\"row\">Ring</th>\n",
    "          <td>1</td>\n",
    "          <td>15</td>\n",
    "        </tr>\n",
    "        <tr>\n",
    "          <th scope=\"row\">Candelabra</th>\n",
    "          <td>5</td>\n",
    "          <td>10</td>\n",
    "        </tr>\n",
    "        <tr>\n",
    "          <th scope=\"row\">Radio</th>\n",
    "          <td>3</td>\n",
    "          <td>9</td>\n",
    "        </tr>\n",
    "        <tr>\n",
    "          <th scope=\"row\">Elvis</th>\n",
    "          <td>4</td>\n",
    "          <td>5</td>\n",
    "        </tr>\n",
    "        <tr>\n",
    "          <th scope=\"row\">Laptop</th>\n",
    "          <td>4</td>\n",
    "          <td>12</td>\n",
    "        </tr>\n",
    "        <tr>\n",
    "          <th scope=\"row\">Xbox</th>\n",
    "          <td>6</td>\n",
    "          <td>10</td>\n",
    "        </tr>\n",
    "        <tr>\n",
    "          <th scope=\"row\">Guitar</th>\n",
    "          <td>7</td>\n",
    "          <td>9</td>\n",
    "        </tr>\n",
    "        <tr>\n",
    "          <th scope=\"row\">Album</th>\n",
    "          <td>3</td>\n",
    "          <td>1</td>\n",
    "        </tr>\n",
    "        <tr>\n",
    "          <th scope=\"row\">Shoes</th>\n",
    "          <td>3</td>\n",
    "          <td>2</td>\n",
    "        </tr>\n",
    "        \n",
    "      </tbody>\n",
    "</table>"
   ]
  },
  {
   "cell_type": "markdown",
   "metadata": {},
   "source": [
    "Imagine that the size of the knapsack is 15.\n",
    "\n",
    "The thief could, for example, steal the Guitar and the Shoes for a combined value of $9 + 2$ since the combined size $7 + 3=10$ is smaller than 15, the knapsack size.\n",
    "\n",
    "Many other combinations are possible.\n",
    "\n",
    "The Knapsack Problem asks the question of what is the best combination of items to achieve the maximum value.\n",
    "\n",
    "A naïve way to solve the problem consists on generating all possible combinations of items, filtering the ones that are valid (combined size <= knapsack size) and picking the one(s) with the best value. This is not efficient for large instances, but that's what we'll do today.\n",
    "\n",
    "Note that to consider all possible combinations, you need to consider all combinations of n=1,2,3...9 elements.\n",
    "For example, `(Ring), (Xbox, Guitar), (Radio, Shoes, Laptop, Ring)` are three possible combinations (regardless of knapsack size) even though they have 1, 2 and 4 elements. Note that the order doesn't matter:  `(Xbox, Guitar) = (Guitar, Xbox)` for the thief.\n",
    "\n"
   ]
  },
  {
   "cell_type": "markdown",
   "metadata": {},
   "source": [
    "### <a name=\"number_total_combinations\"></a>Calculating the number of combinations\n",
    "\n",
    "Implement the function `num_total_combinations(N)` that calculates the total number of $n=1,2,3...N$ element combinations of N elements.\n",
    "\n",
    "For example, with three elements `A,B,C`, `num_total_combinations(3)` should return $3 +3+1=7$ as the possible combinations are: `(A), (B), (C), (AB), (AC), (BC), (ABC)`\n",
    "\n",
    "`num_total_combinations(9)` gives us the total number of combinations that the thief could choose to put in the knapsack (regardless of whether those combinations are feasible due to the size constraint).\n",
    "\n",
    "\n",
    "\n",
    "<div class=\"alert alert-warning\">\n",
    "**Hint:** Think that you need to consider all combinations in which an each element is or is not chosen. You could represent which N items are chosen with a binary number of N digits. In the previous example of 3 elements, `(A)` represents a combination in which A is chosen and B and C are not; `(AC)` represents a combination in which A is chosen, B is not chosen and C is chosen. Finally remember that at least one element needs to be chosen (the `()` combination is not valid).\n",
    "</div>\n",
    "\n",
    "<div class=\"alert alert-info\">\n",
    "Implement the function `num_total_combinations(N)` below.\n",
    "</div>"
   ]
  },
  {
   "cell_type": "code",
   "execution_count": 23,
   "metadata": {
    "deletable": false,
    "nbgrader": {
     "cell_type": "code",
     "checksum": "168dff4ce9f668fc499d42804da666c3",
     "grade": false,
     "grade_id": "num_total_comb_code",
     "locked": false,
     "schema_version": 3,
     "solution": true
    }
   },
   "outputs": [],
   "source": [
    "def num_total_combinations(n):\n",
    "    import itertools\n",
    "    lst=[]\n",
    "    total= 0\n",
    "    for i in range(1,n+1):\n",
    "            lst.append(i)\n",
    "    for j in range(1,n+1):\n",
    "        length = len(list(itertools.combinations(lst, j)))\n",
    "        total += length\n",
    "    return total"
   ]
  },
  {
   "cell_type": "code",
   "execution_count": 24,
   "metadata": {
    "deletable": false,
    "editable": false,
    "nbgrader": {
     "cell_type": "code",
     "checksum": "b99ef71cf0e1513f671c97c9b0655841",
     "grade": false,
     "grade_id": "num_total_knapsack",
     "locked": true,
     "schema_version": 3,
     "solution": false
    }
   },
   "outputs": [
    {
     "name": "stdout",
     "output_type": "stream",
     "text": [
      "The number of possible combinations of items is: 511\n"
     ]
    }
   ],
   "source": [
    "print(\"The number of possible combinations of items is: %d\" %num_total_combinations(9))"
   ]
  },
  {
   "cell_type": "code",
   "execution_count": 25,
   "metadata": {
    "deletable": false,
    "editable": false,
    "nbgrader": {
     "cell_type": "code",
     "checksum": "6248d5d9dce045fe25b8a04d74603539",
     "grade": true,
     "grade_id": "num_total_comb_test",
     "locked": true,
     "points": 5,
     "schema_version": 3,
     "solution": false
    }
   },
   "outputs": [
    {
     "data": {
      "text/html": [
       "<div class=\"alert alert-success\">\n",
       "        <strong>Test passed!!</strong>\n",
       "        </div>"
      ]
     },
     "metadata": {},
     "output_type": "display_data"
    }
   ],
   "source": [
    "\"\"\"Check that the implementation of num_total_combinations\"\"\"\n",
    "from nose.tools import assert_equal\n",
    "assert_equal(num_total_combinations(3), 7)\n",
    "assert_equal(num_total_combinations(2), 3)\n",
    "assert_equal(num_total_combinations(4), 15)\n",
    "test_ok()"
   ]
  },
  {
   "cell_type": "markdown",
   "metadata": {},
   "source": [
    "### A brute-force approach to solving the Knapsack Problem"
   ]
  },
  {
   "cell_type": "markdown",
   "metadata": {},
   "source": [
    "In order to solve the knapsack problem, you will:\n",
    "\n",
    "1. Generate all possible combinations of items that the thief could put in the knapsack (regardless of the size constraint)\n",
    "2. Keep the valid combinations (those that satisfy the knapsack constraint)\n",
    "3. Find the 5 best combinations in decreasing value of combined value\n",
    "\n",
    "We give you the data for the items in the table in the following code cell using Python dictionaries."
   ]
  },
  {
   "cell_type": "code",
   "execution_count": 26,
   "metadata": {
    "deletable": false,
    "editable": false,
    "nbgrader": {
     "cell_type": "code",
     "checksum": "50234030beeade48bc80138d5ca55a0f",
     "grade": false,
     "grade_id": "knap_items",
     "locked": true,
     "schema_version": 3,
     "solution": false
    }
   },
   "outputs": [],
   "source": [
    "# Data from the items table in Python dictionaries\n",
    "# changes that you make to this cell will be overwritten by our autograding software.\n",
    "sizes = dict(ring=1, candelabra=5, radio=3, elvis=4, laptop=4, xbox=6, guitar=7, album=3, shoes=3)\n",
    "values = dict(ring=15, candelabra=10, radio=9, elvis=5, laptop=12, xbox=10, guitar=9, album=1, shoes=2)\n",
    "items = sizes.keys()"
   ]
  },
  {
   "cell_type": "markdown",
   "metadata": {},
   "source": [
    "In order to generate all the possible combinations, you can use the `itertools` python module, as illustrated in the follwing example."
   ]
  },
  {
   "cell_type": "markdown",
   "metadata": {},
   "source": [
    "Implement the function `make_combinations(items)` that generates a list of all the possible combinations of items that the thief could put in his knapsack (regardless of the size constraint).\n",
    "\n",
    "Make sure that the list contains as many elements as the total number of possible combinations that you calculated above.\n",
    "\n",
    "Each combination should be a tuple of strings. As an example `('album', 'ring'), ('album', 'shoes', 'elvis'), ('xbox', 'guitar', 'radio', 'ring')` should be in your list.\n",
    "\n",
    "<a name=\"all_combinations\"></a>\n",
    "<div class=\"alert alert-info\">\n",
    "Implement the function `make_combinations(items)` below.\n",
    "</div>"
   ]
  },
  {
   "cell_type": "code",
   "execution_count": 27,
   "metadata": {
    "deletable": false,
    "nbgrader": {
     "cell_type": "code",
     "checksum": "1bf2df233ff05a8e7d705baa178ad6af",
     "grade": false,
     "grade_id": "all_combinations_code",
     "locked": false,
     "schema_version": 3,
     "solution": true
    }
   },
   "outputs": [],
   "source": [
    "def make_combinations(items):\n",
    "    import pandas as pd\n",
    "    import itertools as it\n",
    "    newdata=[]\n",
    "\n",
    "    for i in range(1,len(items)+1):\n",
    "        newdata= newdata + list(it.combinations(items,i))\n",
    "    return newdata\n"
   ]
  },
  {
   "cell_type": "code",
   "execution_count": 28,
   "metadata": {
    "deletable": false,
    "editable": false,
    "nbgrader": {
     "cell_type": "code",
     "checksum": "bb1ecb3a3cf3fa554c649d02927ad880",
     "grade": true,
     "grade_id": "all_combinations_test",
     "locked": true,
     "points": 15,
     "schema_version": 3,
     "solution": false
    }
   },
   "outputs": [
    {
     "data": {
      "text/html": [
       "<div class=\"alert alert-success\">\n",
       "        <strong>Test passed!!</strong>\n",
       "        </div>"
      ]
     },
     "metadata": {},
     "output_type": "display_data"
    }
   ],
   "source": [
    "\"\"\"Check that all combinations are generated\"\"\"\n",
    "from nose.tools import assert_equal\n",
    "all_combinations_test = make_combinations(items)\n",
    "assert_equal(len(all_combinations_test), 511)\n",
    "test_combinations(all_combinations_test, items)\n",
    "del all_combinations_test\n",
    "test_ok()"
   ]
  },
  {
   "cell_type": "markdown",
   "metadata": {},
   "source": [
    "Now reject the combinations that don't satisfy the knapsack constraint (the cummulative value of the size of the elements is larger than the knapsack size).\n",
    "\n",
    "Implement the function `valid_combinations(combinations, sizes, knapsack_size)` that takes all the combinations produced by `make_combinations(items)`, the dictionary of the sizes of each element (`sizes`), and the size of the knapsack and returns a list containing only the valid combinations.\n",
    "\n",
    "You may want to use Python's `filter` function.\n",
    "\n",
    "<a name=\"valid_combinations\"></a>\n",
    "<div class=\"alert alert-info\">\n",
    "Implement the function `valid_combinations(combinations, sizes, knapsack_size=15)` below.\n",
    "</div>"
   ]
  },
  {
   "cell_type": "code",
   "execution_count": 29,
   "metadata": {
    "deletable": false,
    "nbgrader": {
     "cell_type": "code",
     "checksum": "8f578ab603db5d65d2c331f67cd05ee5",
     "grade": false,
     "grade_id": "valid_comb_code",
     "locked": false,
     "schema_version": 3,
     "solution": true
    }
   },
   "outputs": [],
   "source": [
    "def valid_combinations(combinations, sizes, knapsack_size=15):\n",
    "    # YOUR CODE HERE\n",
    "    combinations=make_combinations(items)\n",
    "    listy=[]\n",
    "    valid_combos=[]\n",
    "\n",
    "    for i in range(0,len(combinations)):\n",
    "        listy=list(combinations[i])\n",
    "        sizescore=0\n",
    "        for j in range(0, len(listy)):\n",
    "            sizescore=sizescore+sizes[listy[j]]\n",
    "        if sizescore<=knapsack_size:\n",
    "            valid_combos.append(combinations[i])\n",
    "    return valid_combos\n",
    "    raise NotImplementedError()"
   ]
  },
  {
   "cell_type": "code",
   "execution_count": 30,
   "metadata": {
    "deletable": false,
    "editable": false,
    "nbgrader": {
     "cell_type": "code",
     "checksum": "3a45380afdd1f7f29a5cb19042e558b8",
     "grade": true,
     "grade_id": "valid_comb_test",
     "locked": true,
     "points": 5,
     "schema_version": 3,
     "solution": false
    }
   },
   "outputs": [
    {
     "data": {
      "text/html": [
       "<div class=\"alert alert-success\">\n",
       "        <strong>Test passed!!</strong>\n",
       "        </div>"
      ]
     },
     "metadata": {},
     "output_type": "display_data"
    }
   ],
   "source": [
    "\"\"\"Check that all valid combinations are generated\"\"\"\n",
    "from nose.tools import assert_equal\n",
    "all_valid_test = valid_combinations(make_combinations(items), sizes, 15)\n",
    "assert_equal(len(all_valid_test), 182)\n",
    "test_combinations(all_valid_test, items)\n",
    "test_valid_combinations(all_valid_test, sizes, 15)\n",
    "del all_valid_test\n",
    "test_ok()"
   ]
  },
  {
   "cell_type": "markdown",
   "metadata": {},
   "source": [
    "Now implement the function `best_knapsack_items(items, sizes, values, knapsack_size, n)` that, given the list of items, the dictionary of their sizes and values, and the size of the knapsack, produces a list of 3-element tuples, whose elements are:\n",
    "\n",
    "1. The combination\n",
    "2. The cummulative value of the items in the combination\n",
    "3. The cummulative size of the items in the combination\n",
    "\n",
    "The list should have at most size `n` and contain the `n` best combinations (in terms of decreasing cummulative value). If there are less than `n` solutions, the function should return all the solutions ordered.\n",
    "\n",
    "**Example**:\n",
    "\n",
    "The following could be valid output of the function (although these 5 are definitely not the best combinations). \n",
    "\n",
    "```\n",
    "[(('album', 'laptop', 'radio', 'elvis'), 27, 14),\n",
    " (('album', 'candelabra', 'ring'), 26, 9),\n",
    " (('album', 'xbox', 'ring'), 26, 10),\n",
    " (('shoes', 'guitar', 'ring'), 26, 11),\n",
    " (('shoes', 'radio', 'ring'), 26, 7)]\n",
    " ```\n",
    "\n",
    "<a name=\"best_solutions\"></a>\n",
    "<div class=\"alert alert-info\">\n",
    "Implement the function `best_knapsack_items(items, sizes, values, knapsack_size, n)` below.\n",
    "</div>"
   ]
  },
  {
   "cell_type": "code",
   "execution_count": 31,
   "metadata": {
    "deletable": false,
    "nbgrader": {
     "cell_type": "code",
     "checksum": "8adc03d79977f200bcf08f309d2ad7b2",
     "grade": true,
     "grade_id": "best_knapsack_code",
     "locked": false,
     "points": 15,
     "schema_version": 3,
     "solution": true
    }
   },
   "outputs": [],
   "source": [
    "def best_knapsack_items(items, sizes, values, knapsack_size=15, n=5):\n",
    "    # YOUR CODE HERE\n",
    "    from operator import itemgetter\n",
    "    combinations=make_combinations(items)\n",
    "    valid_combos=valid_combinations(combinations, sizes, knapsack_size)\n",
    "    listy=[]\n",
    "    valid_combos=[]\n",
    "    valuescore=[]\n",
    "    sizeguy=[]\n",
    "    valuescoreboard=[]\n",
    "    output=[]\n",
    "    placeholder=[]\n",
    "    tracker=[]\n",
    "    scorekeeper=0\n",
    "    answer=[]\n",
    "    sizescore=0\n",
    "    final=[]\n",
    "    lister=[]\n",
    "    listy=list(combinations)\n",
    "    for i in range(0,len(combinations)):\n",
    "        listy=list(combinations[i])\n",
    "        sizescore=0\n",
    "        for j in range(0, len(listy)):\n",
    "            sizescore=sizescore+sizes[listy[j]]\n",
    "        if sizescore<=knapsack_size:\n",
    "            valid_combos.append(combinations[i])\n",
    "            sizeguy.append(sizescore)\n",
    "    for k in range(0,len(valid_combos)):\n",
    "        valuescore=0\n",
    "        listy2=list(valid_combos[k])\n",
    "        for l in range(0, len(listy2)):\n",
    "            valuescore=valuescore+values[listy2[l]]\n",
    "        valuescoreboard.append(valuescore)\n",
    "        \n",
    "    for w in range(0, len(valid_combos)):\n",
    "        lister=[valid_combos[w],valuescoreboard[w],sizeguy[w]]\n",
    "        output.append(lister)\n",
    "        \n",
    "    ref=sorted(output, key=itemgetter(1),reverse=True)\n",
    "    if len(output)>=n:\n",
    "        for z in range(0,n):\n",
    "            final.append(ref[z])\n",
    "    else:\n",
    "        final=ref\n",
    "    if final is None:\n",
    "        return print(\"final is none\")\n",
    "    else:\n",
    "        return final\n",
    "    raise NotImplementedError()\n",
    "    "
   ]
  },
  {
   "cell_type": "code",
   "execution_count": 32,
   "metadata": {},
   "outputs": [
    {
     "data": {
      "text/plain": [
       "[[('ring', 'candelabra', 'radio', 'laptop'), 46, 13],\n",
       " [('ring', 'radio', 'laptop', 'xbox'), 46, 14],\n",
       " [('ring', 'radio', 'laptop', 'guitar'), 45, 15],\n",
       " [('ring', 'candelabra', 'radio', 'xbox'), 44, 15],\n",
       " [('ring', 'radio', 'elvis', 'laptop', 'shoes'), 43, 15]]"
      ]
     },
     "execution_count": 32,
     "metadata": {},
     "output_type": "execute_result"
    }
   ],
   "source": [
    "best_knapsack_items(items, sizes, values, knapsack_size=15, n=5)"
   ]
  },
  {
   "cell_type": "code",
   "execution_count": 33,
   "metadata": {
    "deletable": false,
    "editable": false,
    "nbgrader": {
     "cell_type": "code",
     "checksum": "1673953ebf45da5907aace05892436ff",
     "grade": false,
     "grade_id": "best_knapsack_print",
     "locked": true,
     "schema_version": 3,
     "solution": false
    },
    "scrolled": true
   },
   "outputs": [
    {
     "name": "stdout",
     "output_type": "stream",
     "text": [
      "value: 46, size: 13, combination: ('ring', 'candelabra', 'radio', 'laptop')\n",
      "value: 46, size: 14, combination: ('ring', 'radio', 'laptop', 'xbox')\n",
      "value: 45, size: 15, combination: ('ring', 'radio', 'laptop', 'guitar')\n",
      "value: 44, size: 15, combination: ('ring', 'candelabra', 'radio', 'xbox')\n",
      "value: 43, size: 15, combination: ('ring', 'radio', 'elvis', 'laptop', 'shoes')\n"
     ]
    }
   ],
   "source": [
    "# Let's find out what the best solutions are!\n",
    "# (this cell will be overwritten)\n",
    "for c, v, s in best_knapsack_items(items,sizes,values, knapsack_size=15, n=5):\n",
    "    print(\"value: %d, size: %d, combination: %r\" % (v, s, c,))"
   ]
  },
  {
   "cell_type": "markdown",
   "metadata": {},
   "source": [
    "### Plot the best knapsack value vs knapsack size using matplotlib\n",
    "\n",
    "In the final part of this exercise, you will make a plot the best knapsack value vs the knapsack size.\n",
    "\n",
    "Implement the function `best_value_plot(knapsack_capacities)` that, given a list of knapsack capacities (such as `range(2,40)`, produces a plot of the knapsack capacity vs the best possible knapsack value.\n",
    "\n",
    "You'll probably want to use the `best_knapsack_items` function you defined earlier and the matplotlib plotting commands showed at the beginning of this document.\n",
    "\n",
    "<a name=\"knapsack_plot\"></a>\n",
    "<div class=\"alert alert-info\">\n",
    "Implement the function `best_value_plot(knapsack_capacities)` below.\n",
    "</div>"
   ]
  },
  {
   "cell_type": "code",
   "execution_count": 34,
   "metadata": {
    "deletable": false,
    "nbgrader": {
     "cell_type": "code",
     "checksum": "58fadd0f47ba641d9fcf06c57e1506e3",
     "grade": true,
     "grade_id": "best_knapsack_plot",
     "locked": false,
     "points": 5,
     "schema_version": 3,
     "solution": true
    }
   },
   "outputs": [],
   "source": [
    "def best_value_plot(knapsack_capacities):\n",
    "    # YOUR CODE HERE\n",
    "    import matplotlib.pyplot as plt\n",
    "    score2=[]\n",
    "    final2=[]\n",
    "    knapsackkeeper=[]\n",
    "    for p in knapsack_capacities:\n",
    "        knapsack_size=p\n",
    "        final2=best_knapsack_items(items,sizes,values, knapsack_size=p, n=1)\n",
    "        placer=list(final2[0])\n",
    "        score2.append(placer[1])\n",
    "        knapsackkeeper.append(p)\n",
    "    plt.scatter(knapsackkeeper,score2)\n",
    "    plt.ylabel('Knapsack Value')\n",
    "    plt.xlabel('Knapsack Size')\n",
    "    return plt.show()\n",
    "    raise NotImplementedError()"
   ]
  },
  {
   "cell_type": "code",
   "execution_count": 37,
   "metadata": {
    "deletable": false,
    "editable": false,
    "nbgrader": {
     "cell_type": "code",
     "checksum": "50720075ecf431883bb794abe19e2d86",
     "grade": false,
     "grade_id": "best_knapsack_plot_show",
     "locked": true,
     "schema_version": 3,
     "solution": false
    }
   },
   "outputs": [
    {
     "data": {
      "image/png": "[encoded data removed]",
      "text/plain": [
       "<Figure size 432x288 with 1 Axes>"
      ]
     },
     "metadata": {
      "needs_background": "light"
     },
     "output_type": "display_data"
    }
   ],
   "source": [
    "# Let's plot the best value for knapsack sizes between 2 and 40\n",
    "# (this cell will be overwritten)\n",
    "best_value_plot(range(2,40))"
   ]
  },
  {
   "cell_type": "markdown",
   "metadata": {},
   "source": [
    "## <a name=\"pi_problem\"></a>Problem 3: Approximate pi using Monte Carlo sampling\n",
    "\n",
    "In this exercise you will use a Monte Carlo sampling technique to approximate the value of $\\pi$, as shown in the following image.\n",
    "\n",
    "<img src=\"pi_example.png\"/>\n",
    "\n",
    "\n",
    "The idea is fairly simple. The ratio of the area of a circle and the square around it is the following:\n",
    "\n",
    "\\begin{equation}\n",
    "ratio = \\frac{A_{circle}}{A_{square}} = \\frac{\\pi R^2}{4 R^2} = \\frac{\\pi}{4}\n",
    "\\end{equation}\n",
    "\n",
    "Therefore, we can calculate $\\pi$ as:\n",
    "\n",
    "\\begin{equation}\n",
    "\\pi = 4 \\frac{A_{circle}}{A_{square}}\n",
    "\\end{equation}\n",
    "\n",
    "Now you may wonder how you can calculate the area of the circle without using $\\pi$. That's where Monte Carlo sampling kicks in. We'll sample $N$ $(x,y)$ points from the uniform distribution of $[-1,1] \\times [-1,1]$. Then we'll approximate the ratio of the area of the circle to the area of the rectangle by the number of points that fall in the circle compared to the number of total sampled points.\n",
    "\n",
    "\\begin{equation}\n",
    "\\pi \\approx 4 \\frac{N_{\\text{in circle}}}{N}\n",
    "\\end{equation}\n",
    "\n",
    "\n",
    "Remember that the points that fall inside the circle of center $(0,0)$ and radius R are those for which\n",
    "\n",
    "\\begin{equation}\n",
    "    x ^ 2 + y ^2 \\leq R^2\n",
    "\\end{equation}\n",
    "\n",
    "holds.\n"
   ]
  },
  {
   "cell_type": "markdown",
   "metadata": {},
   "source": [
    "The code example below shows how to take N samples from the $[-1,1] \\times [-1,1]$ uniform distribution.\n",
    "\n",
    "You'll probably want to use this in your code."
   ]
  },
  {
   "cell_type": "code",
   "execution_count": 38,
   "metadata": {},
   "outputs": [
    {
     "data": {
      "text/plain": [
       "(-1.0971519210218523,\n",
       " 1.09471070893415,\n",
       " -1.0894102111524762,\n",
       " 1.0975862723108298)"
      ]
     },
     "execution_count": 38,
     "metadata": {},
     "output_type": "execute_result"
    },
    {
     "data": {
      "image/png": "[encoded data removed]",
      "text/plain": [
       "<Figure size 432x288 with 1 Axes>"
      ]
     },
     "metadata": {
      "needs_background": "light"
     },
     "output_type": "display_data"
    }
   ],
   "source": [
    "# Example that shows how to sample from the [-1,1] x [-1,1] uniform distribution\n",
    "Nsamples = 500\n",
    "R=1\n",
    "samples = np.random.uniform(-R,R,[Nsamples,2])\n",
    "# samples is a Nsamples x 2 numpy array\n",
    "# the x values are given by samples[:,0] (the first column)\n",
    "# the y values are given by samples[:,1] (the second column)\n",
    "\n",
    "# We can plot these sample values with matplotlib\n",
    "plt.plot(samples[:,0],samples[:,1],'xb')\n",
    "plot_limits = [-1.25*R, 1.25*R]\n",
    "plt.xlim(plot_limits)\n",
    "plt.ylim(plot_limits)\n",
    "plt.axis('equal') # to make x and y axes equal\n"
   ]
  },
  {
   "cell_type": "markdown",
   "metadata": {},
   "source": [
    "Implement the function `pi_error(pi_approx)` that calculates the error of your pi approximation according to the following formula:\n",
    "\n",
    "\\begin{equation}\n",
    "    error = \\frac{|\\pi_{approx} - \\pi|}{\\pi}\n",
    "\\end{equation}\n",
    "\n",
    "<a name=\"pi_error\"></a>\n",
    "<div class=\"alert alert-info\">\n",
    "Implement the function `pi_error(pi_approx)` in the cell below.\n",
    "</div>"
   ]
  },
  {
   "cell_type": "code",
   "execution_count": 39,
   "metadata": {
    "deletable": false,
    "nbgrader": {
     "cell_type": "code",
     "checksum": "8609996e934c2b846336d5f8251724c6",
     "grade": false,
     "grade_id": "pi_error_code",
     "locked": false,
     "schema_version": 3,
     "solution": true
    }
   },
   "outputs": [],
   "source": [
    "def pi_error(pi_approx):\n",
    "    import math\n",
    "    error=abs(pi_approx-math.pi)/math.pi\n",
    "    return error\n",
    "    raise NotImplementedError()  \n"
   ]
  },
  {
   "cell_type": "code",
   "execution_count": 40,
   "metadata": {
    "deletable": false,
    "editable": false,
    "nbgrader": {
     "cell_type": "code",
     "checksum": "a37e5e9e2b49fd3d1aa7f9af8d8c5b46",
     "grade": true,
     "grade_id": "pi_error_test",
     "locked": true,
     "points": 5,
     "schema_version": 3,
     "solution": false
    }
   },
   "outputs": [
    {
     "data": {
      "text/html": [
       "<div class=\"alert alert-success\">\n",
       "        <strong>Test passed!!</strong>\n",
       "        </div>"
      ]
     },
     "metadata": {},
     "output_type": "display_data"
    }
   ],
   "source": [
    "\"\"\"Test the pi_error function\"\"\"\n",
    "from nose.tools import assert_equal, ok_, assert_almost_equal\n",
    "assert_almost_equal(pi_error(3.1), 0.013239, places=5)\n",
    "assert_almost_equal(pi_error(3.0), 0.0450703, places=5)\n",
    "assert_almost_equal(pi_error(2), 0.3633802, places=5)\n",
    "assert_almost_equal(pi_error(4), 0.2732395, places=5)\n",
    "test_ok()"
   ]
  },
  {
   "cell_type": "markdown",
   "metadata": {},
   "source": [
    "Now implement the function `approximate_pi(N)` that returns an approximation to $\\pi$ according to the method explained above.\n",
    "\n",
    "The input to the function is N, the number of samples used to perform the approximation.\n",
    "\n",
    "Remember that what you have to do is:\n",
    "\n",
    "1. Take N samples in the $[-1,1] \\times [-1,1]$ uniform distribution\n",
    "2. Count how many of those samples fall inside the circle of center $(0,0)$ and radius 1.\n",
    "3. Calculate $\\pi_{approx}$ using the formula described above\n",
    "\n",
    "You can plot the sampled points using matplotlib (like the graph displayed at the beginning of this exercise), but this is optional and not required.\n",
    "\n",
    "\n",
    "<a name=\"pi_approximate\"></a>\n",
    "<div class=\"alert alert-info\">\n",
    "Implement the function `approximate_pi(N)` in the cell below.\n",
    "</div>"
   ]
  },
  {
   "cell_type": "code",
   "execution_count": 41,
   "metadata": {
    "deletable": false,
    "nbgrader": {
     "cell_type": "code",
     "checksum": "48b99d93458d4f34f07cbd7508131d13",
     "grade": true,
     "grade_id": "approx_pi_code",
     "locked": false,
     "points": 30,
     "schema_version": 3,
     "solution": true
    }
   },
   "outputs": [],
   "source": [
    "def approximate_pi(N):\n",
    "    \"\"\"Return an approximation of the value of pi using N samples and the procedure described above.\"\"\"\n",
    "    # YOUR CODE HERE\n",
    "    Nsamples = N\n",
    "    R=1\n",
    "    samples = np.random.uniform(-R,R,[Nsamples,2])\n",
    "    import math\n",
    "    pivar=0\n",
    "    counterincircle=0\n",
    "    error=0\n",
    "    for i in range(0,len(samples)):\n",
    "        square1= samples[i][0]\n",
    "        square2= samples[i][1]\n",
    "        if square1*square1+square2*square2<=R:\n",
    "            counterincircle=counterincircle+1\n",
    "    pivar=4*(counterincircle/Nsamples)\n",
    "    \n",
    "    return pivar\n",
    "    raise NotImplementedError()\n"
   ]
  },
  {
   "cell_type": "markdown",
   "metadata": {},
   "source": [
    ")Now let's see how the number of samples affects the quality of the approximation of $\\pi$.\n",
    "\n",
    "Implement the function `print_approx_pi_table` that computes the mean $\\pi$ approximation with 100, 1000, 10000 and 50000 samples. For each number of samples $N$ the function should compute the $\\pi$ approximation $n=10$ times and average the $\\pi_{approx}$ and error.\n",
    "\n",
    "The function, that takes no arguments, should print a table with one row for each value of the number of samples containing:\n",
    "\n",
    "- The number of samples used\n",
    "- The average approximated value of pi computed, $\\pi_{approx}$\n",
    "- The average error of that approximation using the `pi_error` function you implemented earlier\n",
    "\n",
    "For example, my `print_approx_pi_table` prints the following table:\n",
    "\n",
    "```\n",
    "N samples:   100, mean pi_approx: 3.16000, mean pi error: 3.428 %, std error: 0.026\n",
    "N samples:  1000, mean pi_approx: 3.15400, mean pi error: 1.617 %, std error: 0.013\n",
    "N samples: 10000, mean pi_approx: 3.12824, mean pi error: 0.639 %, std error: 0.004\n",
    "N samples: 50000, mean pi_approx: 3.14361, mean pi error: 0.156 %, std error: 0.002\n",
    "```\n",
    "\n",
    "NOTE: You don't need to compute the standard deviation of the error.\n",
    "\n",
    "<div class=\"alert alert-warning\">\n",
    "If your function `approximate_pi(N)` plots something, I recommend that you comment that out before running the `print_approx_pi_table()`, as otherwise it will generate a lot of graphics and become very slow.\n",
    "</div>\n",
    "\n",
    "<a name=\"pi_table\"></a>\n",
    "<div class=\"alert alert-info\">\n",
    "Implement the function `print_approx_pi_table()` in the cell below.\n",
    "</div>"
   ]
  },
  {
   "cell_type": "code",
   "execution_count": 42,
   "metadata": {
    "deletable": false,
    "nbgrader": {
     "cell_type": "code",
     "checksum": "62d7083589b19aff0e82aea83238553a",
     "grade": true,
     "grade_id": "approx_pi_table",
     "locked": false,
     "points": 10,
     "schema_version": 3,
     "solution": true
    }
   },
   "outputs": [],
   "source": [
    "def print_approx_pi_table():\n",
    "    \"\"\"Print a table comparing the approximated values of pi for different values of the number of samples\"\"\"\n",
    "    import math \n",
    "    samplevalues=[100,1000,10000,50000]\n",
    "    avgmat=[]\n",
    "    valueguy=0\n",
    "    varibale=[]\n",
    "    for i in range(0, len(samplevalues)):\n",
    "        N=samplevalues[i]\n",
    "        output=0\n",
    "        for j in range(1, 11):\n",
    "            valueguy=approximate_pi(N)\n",
    "            output=output+valueguy\n",
    "        avgmat.append(output/10)\n",
    "        varibale.append(100*(abs(1-(output/10)/math.pi)))\n",
    "    a_variable=round(avgmat[0],3)\n",
    "    b_variable=round(varibale[0],3)\n",
    "    c_variable=round(avgmat[1],3)\n",
    "    d_variable=round(varibale[1],3)\n",
    "    e_variable=round(avgmat[2],3)\n",
    "    f_variable=round(varibale[2],3)\n",
    "    g_variable=round(avgmat[3],3)\n",
    "    h_variable=round(varibale[3],3)\n",
    "    part1= 'N samples:'\n",
    "    part2= ', mean pi_approx:'\n",
    "    part3=', mean pi error:'\n",
    "    part4='%.'\n",
    "    line1=[]\n",
    "    line2=[]\n",
    "    line3=[]\n",
    "    line4=[]\n",
    "    line1=(f\"N samples:  100,  mean pi_approx: {a_variable},  mean pi error: {b_variable}%\")\n",
    "    line2=(f\"N samples: 1000,  mean pi_approx: {c_variable},  mean pi error: {d_variable}%\")\n",
    "\n",
    "    line3=(f\"N samples:10000,  mean pi_approx: {e_variable},  mean pi error: {f_variable}%\")\n",
    "    line4=(f\"N samples:50000,  mean pi_approx: {g_variable},  mean pi error: {h_variable}%\")\n",
    "    return print(line1, line2, line3, line4, sep=\"\\n\")\n",
    "    \n",
    "    \n",
    "    raise NotImplementedError()"
   ]
  },
  {
   "cell_type": "code",
   "execution_count": 43,
   "metadata": {
    "deletable": false,
    "editable": false,
    "nbgrader": {
     "cell_type": "code",
     "checksum": "5f6f416eb28333b75e84d83a5572b5fd",
     "grade": false,
     "grade_id": "gen_pi_table",
     "locked": true,
     "schema_version": 3,
     "solution": false
    }
   },
   "outputs": [
    {
     "name": "stdout",
     "output_type": "stream",
     "text": [
      "N samples:  100,  mean pi_approx: 3.168,  mean pi error: 0.841%\n",
      "N samples: 1000,  mean pi_approx: 3.15,  mean pi error: 0.255%\n",
      "N samples:10000,  mean pi_approx: 3.137,  mean pi error: 0.146%\n",
      "N samples:50000,  mean pi_approx: 3.141,  mean pi error: 0.031%\n"
     ]
    }
   ],
   "source": [
    "# Let's see what your table looks like\n",
    "# (this cell will be overwritten)\n",
    "print_approx_pi_table()"
   ]
  }
 ],
 "metadata": {
  "anaconda-cloud": {},
  "kernelspec": {
   "display_name": "Python 3 (ipykernel)",
   "language": "python",
   "name": "python3"
  },
  "language_info": {
   "codemirror_mode": {
    "name": "ipython",
    "version": 3
   },
   "file_extension": ".py",
   "mimetype": "text/x-python",
   "name": "python",
   "nbconvert_exporter": "python",
   "pygments_lexer": "ipython3",
   "version": "3.9.6"
  }
 },
 "nbformat": 4,
 "nbformat_minor": 1
}
