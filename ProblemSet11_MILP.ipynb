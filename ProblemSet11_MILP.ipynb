{
 "cells": [
  {
   "cell_type": "markdown",
   "metadata": {},
   "source": [
    "# Problem Set 11: Bayes Nets\n",
    "\n",
    "\n",
    "[Bayesian Networks (40 points)]\n",
    "\n",
    "40 points total for Problem Set 11\n"
   ]
  },
  {
   "cell_type": "markdown",
   "metadata": {},
   "source": [
    "## <a name=\"contributors\"></a> Credit for Contributors\n",
    "\n",
    "List the various students, lecture notes, or online resouces that helped you complete this problem set:\n",
    "\n",
    "Ex: I worked with Bob on the cat activity planning problem.\n",
    "\n",
    "<div class=\"alert alert-info\">\n",
    "Write your answer in the cell below this one.\n",
    "</div>"
   ]
  },
  {
   "cell_type": "markdown",
   "metadata": {},
   "source": [
    "I worked with Skye Eiskowitz, Tom Stuart, and the Twins on this assignment."
   ]
  },
  {
   "cell_type": "markdown",
   "metadata": {},
   "source": [
    "## <a name=\"part4\"></a>Problem 4: Bayesian Networks (40 points)\n",
    "\n",
    "Consider the following Bayes Net. \n",
    "\n",
    "Write out an expression for the joint probability\n",
    "distribution of the variables. \n",
    "\n",
    "Assume that each variable is binary, meaning that it can take two different\n",
    "values. Comment on the complexity of inference (that is, the size of the tables that you\n",
    "will need to store) to compute the **marginal probability distribution of x6** from the\n",
    "conditional probabilities. \n",
    "\n",
    "Repeat the **same exercise for x4**.\n",
    "\n",
    "<img src=\"bayes_net.png\" style=\"width:40%;\"/>\n",
    "\n",
    "\n",
    "\n",
    "<div class=\"alert alert-info\">\n",
    "Write or upload your answer in the cell below this one.\n",
    "</div>\n",
    "\n"
   ]
  },
  {
   "cell_type": "markdown",
   "metadata": {
    "deletable": false,
    "nbgrader": {
     "cell_type": "markdown",
     "checksum": "1428d83c79432c17f58d91a77f70c52d",
     "grade": true,
     "grade_id": "part4_bayes",
     "locked": false,
     "points": 40,
     "schema_version": 3,
     "solution": true
    }
   },
   "source": [
    "The joint distribution is as follows:<br>\n",
    "P(X1, X2, X3, X4, X5, X6)= P(X1)P(X2|X1)P(X3|X1)P(X4|X1,X2)P(X5|X2,X3)P(X6|X5)<br>\n",
    "This joint distribution looks like this because of the chain rule and Markov assumptions that are inherent in directed, acyclic graphs that we call Bayes Nets.<br> The table required to track the conditional probability for X6 includes the sum of X6 conditioned on X5 as well as the sum of X5 conditioned on X2 and X3, and then finally X3 conditioned on X1, X2 conditioned on X1 and the probability of X1. Essentially because X6 has so many ancestors \n",
    "$$P(X_6)=\\sum_{X_5}(P(X_6|X_5)\\sum_{X_2,X_3}(P(X_5|X_3,X_2))\\sum_{X_1}P(X_3|X_1)P(X_2|X_1)*P(X_1)$$ <br>\n",
    "The complexity here is 2+4+2+2+1 totaling 11 elements.<br>\n",
    "For X4, because it has fewer parents, it is only conditioned on X2 and X1, so the conditional probability table is smaller:\n",
    "$$P(X_4)=\\sum_{X_1,X_2}P(X_4|X_2,X_1)P(X_2|X_1)P(X_1)$$ <br>\n",
    "The complexity here is less: 4+2+1=7 total elements that need to be tracked."
   ]
  }
 ],
 "metadata": {
  "kernelspec": {
   "display_name": "Python 3 (ipykernel)",
   "language": "python",
   "name": "python3"
  },
  "language_info": {
   "codemirror_mode": {
    "name": "ipython",
    "version": 3
   },
   "file_extension": ".py",
   "mimetype": "text/x-python",
   "name": "python",
   "nbconvert_exporter": "python",
   "pygments_lexer": "ipython3",
   "version": "3.9.6"
  }
 },
 "nbformat": 4,
 "nbformat_minor": 1
}
